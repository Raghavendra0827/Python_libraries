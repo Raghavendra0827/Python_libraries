{
 "cells": [
  {
   "cell_type": "markdown",
   "id": "84bdc52d",
   "metadata": {},
   "source": [
    "# NUMPY\n"
   ]
  },
  {
   "cell_type": "code",
   "execution_count": 1,
   "id": "7745612e",
   "metadata": {},
   "outputs": [],
   "source": [
    "## HOW TO CREATE NUMPY ARRAY"
   ]
  },
  {
   "cell_type": "markdown",
   "id": "c8cce5f4",
   "metadata": {},
   "source": [
    "# 1-D ARRAY"
   ]
  },
  {
   "cell_type": "code",
   "execution_count": 2,
   "id": "aeb606ef",
   "metadata": {},
   "outputs": [
    {
     "data": {
      "text/plain": [
       "array([1, 2, 3, 4])"
      ]
     },
     "execution_count": 2,
     "metadata": {},
     "output_type": "execute_result"
    }
   ],
   "source": [
    "import numpy as np\n",
    "array=np.array([1,2,3,4])\n",
    "array"
   ]
  },
  {
   "cell_type": "markdown",
   "id": "d9e84c08",
   "metadata": {},
   "source": [
    "# 2-d array"
   ]
  },
  {
   "cell_type": "code",
   "execution_count": 2,
   "id": "3a0380e4",
   "metadata": {},
   "outputs": [
    {
     "data": {
      "text/plain": [
       "array([[1, 2, 3],\n",
       "       [4, 5, 6]])"
      ]
     },
     "execution_count": 2,
     "metadata": {},
     "output_type": "execute_result"
    }
   ],
   "source": [
    "import numpy as np\n",
    "array2=np.array([[1,2,3],[4,5,6]])\n",
    "array2"
   ]
  },
  {
   "cell_type": "markdown",
   "id": "6713e9d5",
   "metadata": {},
   "source": [
    "# HOW TO INTIALIZE THE NUMPY ARRAY OF x X y ARRAY TO 0"
   ]
  },
  {
   "cell_type": "code",
   "execution_count": 6,
   "id": "263e10e4",
   "metadata": {},
   "outputs": [
    {
     "data": {
      "text/plain": [
       "array([[0., 0., 0., 0.],\n",
       "       [0., 0., 0., 0.],\n",
       "       [0., 0., 0., 0.]])"
      ]
     },
     "execution_count": 6,
     "metadata": {},
     "output_type": "execute_result"
    }
   ],
   "source": [
    "import numpy as np\n",
    "ntg=np.zeros((3,4))# intializing all the element as the zeros\n",
    "ntg"
   ]
  },
  {
   "cell_type": "markdown",
   "id": "ea4b2c3c",
   "metadata": {},
   "source": [
    "# HOW TO ARRANGE NUMBERS BETWEEN X AND Y WITH AN INTERVAL OF Z"
   ]
  },
  {
   "cell_type": "code",
   "execution_count": 8,
   "id": "9f84cbb5",
   "metadata": {},
   "outputs": [
    {
     "data": {
      "text/plain": [
       "array([1, 2, 3, 4, 5, 6, 7, 8, 9])"
      ]
     },
     "execution_count": 8,
     "metadata": {},
     "output_type": "execute_result"
    }
   ],
   "source": [
    "import numpy as np\n",
    "array3=np.arange(1,10,1)\n",
    "array3"
   ]
  },
  {
   "cell_type": "markdown",
   "id": "c8a079e1",
   "metadata": {},
   "source": [
    "# HOW TO ARRANGE Z NUMBERS BETWEEN X AND Y "
   ]
  },
  {
   "cell_type": "code",
   "execution_count": 2,
   "id": "4ad368e5",
   "metadata": {},
   "outputs": [
    {
     "data": {
      "text/plain": [
       "array([ 0.,  2.,  4.,  6.,  8., 10.])"
      ]
     },
     "execution_count": 2,
     "metadata": {},
     "output_type": "execute_result"
    }
   ],
   "source": [
    "import numpy as np\n",
    "array4=np.linspace(0,10,6)\n",
    "array4"
   ]
  },
  {
   "cell_type": "markdown",
   "id": "57d1c394",
   "metadata": {},
   "source": [
    "# filling same number\n"
   ]
  },
  {
   "cell_type": "code",
   "execution_count": 3,
   "id": "d5978a6b",
   "metadata": {},
   "outputs": [
    {
     "data": {
      "text/plain": [
       "array([[10, 10],\n",
       "       [10, 10],\n",
       "       [10, 10]])"
      ]
     },
     "execution_count": 3,
     "metadata": {},
     "output_type": "execute_result"
    }
   ],
   "source": [
    "import numpy as np\n",
    "array5=np.full((3,2),10)\n",
    "array5"
   ]
  },
  {
   "cell_type": "markdown",
   "id": "82ce6fac",
   "metadata": {},
   "source": [
    "# filling random number"
   ]
  },
  {
   "cell_type": "code",
   "execution_count": 6,
   "id": "84783883",
   "metadata": {},
   "outputs": [
    {
     "data": {
      "text/plain": [
       "array([[0.08386349, 0.28193461, 0.37699676],\n",
       "       [0.08772433, 0.76302171, 0.1154692 ]])"
      ]
     },
     "execution_count": 6,
     "metadata": {},
     "output_type": "execute_result"
    }
   ],
   "source": [
    "import numpy as np\n",
    "array6=np.random.random((2,3))\n",
    "array6"
   ]
  },
  {
   "cell_type": "markdown",
   "id": "49f2c45d",
   "metadata": {},
   "source": [
    "# INSPECTING THE ARRAY"
   ]
  },
  {
   "cell_type": "code",
   "execution_count": 9,
   "id": "d66cc7bc",
   "metadata": {},
   "outputs": [
    {
     "name": "stdout",
     "output_type": "stream",
     "text": [
      "(2, 3)\n"
     ]
    }
   ],
   "source": [
    "#checking size of array\n",
    "a=np.array([[1,2,3],[4,5,6]])\n",
    "print(a.shape)"
   ]
  },
  {
   "cell_type": "code",
   "execution_count": 20,
   "id": "126c742a",
   "metadata": {},
   "outputs": [
    {
     "data": {
      "text/plain": [
       "array([[1, 2],\n",
       "       [3, 4],\n",
       "       [5, 6]])"
      ]
     },
     "execution_count": 20,
     "metadata": {},
     "output_type": "execute_result"
    }
   ],
   "source": [
    "## resize the array\n",
    "a=np.array([[1,2,3],[4,5,6]])\n",
    "a.shape=(3,2)\n",
    "a"
   ]
  },
  {
   "cell_type": "code",
   "execution_count": 7,
   "id": "2b2926ed",
   "metadata": {},
   "outputs": [
    {
     "data": {
      "text/plain": [
       "array([ 0,  1,  2,  3,  4,  5,  6,  7,  8,  9, 10, 11, 12, 13, 14, 15, 16,\n",
       "       17, 18, 19, 20, 21, 22, 23])"
      ]
     },
     "execution_count": 7,
     "metadata": {},
     "output_type": "execute_result"
    }
   ],
   "source": [
    "# to print the dimension of array\n",
    "a=np.arange(24)\n",
    "a"
   ]
  },
  {
   "cell_type": "code",
   "execution_count": 12,
   "id": "3ede2afe",
   "metadata": {},
   "outputs": [
    {
     "data": {
      "text/plain": [
       "array([[[ 0,  1],\n",
       "        [ 2,  3],\n",
       "        [ 4,  5],\n",
       "        [ 6,  7]],\n",
       "\n",
       "       [[ 8,  9],\n",
       "        [10, 11],\n",
       "        [12, 13],\n",
       "        [14, 15]],\n",
       "\n",
       "       [[16, 17],\n",
       "        [18, 19],\n",
       "        [20, 21],\n",
       "        [22, 23]]])"
      ]
     },
     "execution_count": 12,
     "metadata": {},
     "output_type": "execute_result"
    }
   ],
   "source": [
    "# to reshape the dimension of array\n",
    "b=a.reshape(3,4,2)\n",
    "b"
   ]
  },
  {
   "cell_type": "markdown",
   "id": "01ad9939",
   "metadata": {},
   "source": [
    "# finding number of elements in the array"
   ]
  },
  {
   "cell_type": "code",
   "execution_count": 10,
   "id": "9145f098",
   "metadata": {},
   "outputs": [
    {
     "name": "stdout",
     "output_type": "stream",
     "text": [
      "24\n"
     ]
    }
   ],
   "source": [
    "a=np.arange(24)\n",
    "print(a.size)"
   ]
  },
  {
   "cell_type": "code",
   "execution_count": 19,
   "id": "87df31d3",
   "metadata": {},
   "outputs": [
    {
     "name": "stdout",
     "output_type": "stream",
     "text": [
      "8\n"
     ]
    }
   ],
   "source": [
    "a=[1,2,3,4],[5,6,7,8]\n",
    "b=np.array(a)\n",
    "print(b.size)"
   ]
  },
  {
   "cell_type": "markdown",
   "id": "d8a74a1d",
   "metadata": {},
   "source": [
    "# finding the data type of the array"
   ]
  },
  {
   "cell_type": "code",
   "execution_count": 22,
   "id": "683155b4",
   "metadata": {},
   "outputs": [
    {
     "name": "stdout",
     "output_type": "stream",
     "text": [
      "int32\n"
     ]
    }
   ],
   "source": [
    "a=np.arange(24)\n",
    "print(a.dtype)"
   ]
  },
  {
   "cell_type": "code",
   "execution_count": 23,
   "id": "487cfe6a",
   "metadata": {},
   "outputs": [
    {
     "name": "stdout",
     "output_type": "stream",
     "text": [
      "float64\n"
     ]
    }
   ],
   "source": [
    "a=np.arange(24,dtype='float')\n",
    "print(a.dtype)"
   ]
  },
  {
   "cell_type": "markdown",
   "id": "3980d432",
   "metadata": {},
   "source": [
    "# numpy array mathmatics"
   ]
  },
  {
   "cell_type": "markdown",
   "id": "f19fb485",
   "metadata": {},
   "source": [
    "# addition of array"
   ]
  },
  {
   "cell_type": "code",
   "execution_count": 27,
   "id": "ae1b68d7",
   "metadata": {},
   "outputs": [
    {
     "data": {
      "text/plain": [
       "21"
      ]
     },
     "execution_count": 27,
     "metadata": {},
     "output_type": "execute_result"
    }
   ],
   "source": [
    "import numpy as np\n",
    "a=[1,2,3,4,5,6]\n",
    "b=np.array(a)\n",
    "np.sum(a)"
   ]
  },
  {
   "cell_type": "code",
   "execution_count": 6,
   "id": "f834b069",
   "metadata": {},
   "outputs": [
    {
     "name": "stdout",
     "output_type": "stream",
     "text": [
      "[[ 1  2  3  4  5  6]\n",
      " [ 7  8  9 10 11 12]]\n"
     ]
    },
    {
     "data": {
      "text/plain": [
       "78"
      ]
     },
     "execution_count": 6,
     "metadata": {},
     "output_type": "execute_result"
    }
   ],
   "source": [
    "import numpy as np\n",
    "a=[1,2,3,4,5,6],[7,8,9,10,11,12]\n",
    "b=np.array(a)\n",
    "np.sum(a)"
   ]
  },
  {
   "cell_type": "code",
   "execution_count": 30,
   "id": "d5c7eb4b",
   "metadata": {},
   "outputs": [
    {
     "data": {
      "text/plain": [
       "array([ 8, 10, 12, 14, 16, 18])"
      ]
     },
     "execution_count": 30,
     "metadata": {},
     "output_type": "execute_result"
    }
   ],
   "source": [
    "import numpy as np\n",
    "a=[1,2,3,4,5,6],[7,8,9,10,11,12]\n",
    "b=np.array(a)\n",
    "np.sum(a,axis=0)## if i mention axis as 0 than it add column wise"
   ]
  },
  {
   "cell_type": "code",
   "execution_count": 43,
   "id": "a50e697b",
   "metadata": {},
   "outputs": [
    {
     "data": {
      "text/plain": [
       "array([21, 57])"
      ]
     },
     "execution_count": 43,
     "metadata": {},
     "output_type": "execute_result"
    }
   ],
   "source": [
    "import numpy as np\n",
    "a=[1,2,3,4,5,6],[7,8,9,10,11,12]\n",
    "b=np.array(a)\n",
    "c=np.sum(a,axis=1)## if i mention axis as 1 than it add row wise\n",
    "c"
   ]
  },
  {
   "cell_type": "code",
   "execution_count": 12,
   "id": "0f809603",
   "metadata": {},
   "outputs": [
    {
     "data": {
      "text/plain": [
       "array([[ 2,  4,  6,  8, 10, 12],\n",
       "       [14, 16, 18, 20, 22, 24]])"
      ]
     },
     "execution_count": 12,
     "metadata": {},
     "output_type": "execute_result"
    }
   ],
   "source": [
    "import numpy as np\n",
    "a=[[1,2,3,4,5,6],[7,8,9,10,11,12]]\n",
    "c=[[1,2,3,4,5,6],[7,8,9,10,11,12]]\n",
    "b=np.array(a)\n",
    "d=np.array(c)\n",
    "np.add(b,d)"
   ]
  },
  {
   "cell_type": "markdown",
   "id": "2321d70e",
   "metadata": {},
   "source": [
    "# Subtraction"
   ]
  },
  {
   "cell_type": "code",
   "execution_count": 9,
   "id": "f5385204",
   "metadata": {},
   "outputs": [
    {
     "data": {
      "text/plain": [
       "array([-6, -6, -6, -6, -6, -6])"
      ]
     },
     "execution_count": 9,
     "metadata": {},
     "output_type": "execute_result"
    }
   ],
   "source": [
    "import numpy as np\n",
    "a=[[1,2,3,4,5,6],[7,8,9,10,11,12]]\n",
    "b=np.array(a)\n",
    "np.subtract(b[0],b[1])## argumnets must be greater than 1"
   ]
  },
  {
   "cell_type": "code",
   "execution_count": 10,
   "id": "6276cc41",
   "metadata": {},
   "outputs": [
    {
     "data": {
      "text/plain": [
       "array([[0, 0, 0, 0, 0, 0],\n",
       "       [0, 0, 0, 0, 0, 0]])"
      ]
     },
     "execution_count": 10,
     "metadata": {},
     "output_type": "execute_result"
    }
   ],
   "source": [
    "import numpy as np\n",
    "a=[[1,2,3,4,5,6],[7,8,9,10,11,12]]\n",
    "c=[[1,2,3,4,5,6],[7,8,9,10,11,12]]\n",
    "b=np.array(a)\n",
    "d=np.array(c)\n",
    "np.subtract(b,d)"
   ]
  },
  {
   "cell_type": "markdown",
   "id": "344248cc",
   "metadata": {},
   "source": [
    "# Multiplication"
   ]
  },
  {
   "cell_type": "code",
   "execution_count": 48,
   "id": "b4ce9bd2",
   "metadata": {},
   "outputs": [
    {
     "data": {
      "text/plain": [
       "array([ 7, 16, 27, 40, 55, 72])"
      ]
     },
     "execution_count": 48,
     "metadata": {},
     "output_type": "execute_result"
    }
   ],
   "source": [
    "import numpy as np\n",
    "a=[1,2,3,4,5,6],[7,8,9,10,11,12]\n",
    "b=np.array(a)\n",
    "np.multiply(b[0],b[1])## argumnets must be greater than 1"
   ]
  },
  {
   "cell_type": "markdown",
   "id": "3f3ae58c",
   "metadata": {},
   "source": [
    "# Division"
   ]
  },
  {
   "cell_type": "code",
   "execution_count": 51,
   "id": "b2a01390",
   "metadata": {},
   "outputs": [
    {
     "data": {
      "text/plain": [
       "array([0.14285714, 0.25      , 0.33333333, 0.4       , 0.45454545,\n",
       "       0.5       ])"
      ]
     },
     "execution_count": 51,
     "metadata": {},
     "output_type": "execute_result"
    }
   ],
   "source": [
    "import numpy as np\n",
    "a=[1,2,3,4,5,6],[7,8,9,10,11,12]\n",
    "b=np.array(a)\n",
    "c=np.divide(b[0],b[1])## argumnets must be greater than 1\n",
    "c"
   ]
  },
  {
   "cell_type": "markdown",
   "id": "6a6d8073",
   "metadata": {},
   "source": [
    "# exp ,sqrt,sin,cos,log"
   ]
  },
  {
   "cell_type": "code",
   "execution_count": 5,
   "id": "36b203b0",
   "metadata": {},
   "outputs": [
    {
     "name": "stdout",
     "output_type": "stream",
     "text": [
      "exponent :  [  2.71828183   7.3890561   20.08553692  54.59815003 148.4131591\n",
      " 403.42879349] \n",
      "\n",
      "square root :  [1.         1.41421356 1.73205081 2.         2.23606798 2.44948974] \n",
      "\n",
      "sin :  [ 0.84147098  0.90929743  0.14112001 -0.7568025  -0.95892427 -0.2794155 ] \n",
      "\n",
      "cos:  [ 0.54030231 -0.41614684 -0.9899925  -0.65364362  0.28366219  0.96017029] \n",
      "\n",
      "log :  [0.         0.69314718 1.09861229 1.38629436 1.60943791 1.79175947] \n",
      "\n"
     ]
    }
   ],
   "source": [
    "import numpy as np\n",
    "a=[1,2,3,4,5,6]\n",
    "b=np.array(a)\n",
    "print(\"exponent : \",np.exp(a),\"\\n\")\n",
    "print(\"square root : \",np.sqrt(a),\"\\n\")\n",
    "print(\"sin : \",np.sin(a),\"\\n\")\n",
    "print(\"cos: \",np.cos(a),\"\\n\")\n",
    "print(\"log : \",np.log(a),\"\\n\")"
   ]
  },
  {
   "cell_type": "markdown",
   "id": "2d6fa574",
   "metadata": {},
   "source": [
    "# Array comparision"
   ]
  },
  {
   "cell_type": "code",
   "execution_count": 6,
   "id": "f3423030",
   "metadata": {},
   "outputs": [
    {
     "data": {
      "text/plain": [
       "array([False, False, False])"
      ]
     },
     "execution_count": 6,
     "metadata": {},
     "output_type": "execute_result"
    }
   ],
   "source": [
    "a=[1,2,3]\n",
    "b=[4,5,6]\n",
    "c=[7,8,9]\n",
    "np.equal(a,b)#element wise comparision"
   ]
  },
  {
   "cell_type": "code",
   "execution_count": 7,
   "id": "bd8fddee",
   "metadata": {},
   "outputs": [
    {
     "data": {
      "text/plain": [
       "False"
      ]
     },
     "execution_count": 7,
     "metadata": {},
     "output_type": "execute_result"
    }
   ],
   "source": [
    "a=[1,2,3]\n",
    "b=[4,5,6]\n",
    "c=[7,8,9]\n",
    "np.array_equal(a,b)#array wise comparision"
   ]
  },
  {
   "cell_type": "markdown",
   "id": "785ab03a",
   "metadata": {},
   "source": [
    "# aggregate function"
   ]
  },
  {
   "cell_type": "code",
   "execution_count": 9,
   "id": "eba1033a",
   "metadata": {},
   "outputs": [
    {
     "name": "stdout",
     "output_type": "stream",
     "text": [
      "sum 6\n",
      "min 1\n",
      "max 3\n",
      "mean 2.0\n",
      "correlation coefficient 2.0\n",
      "standard deviation 0.816496580927726\n"
     ]
    }
   ],
   "source": [
    "a=[1,2,3]\n",
    "b=[4,5,6]\n",
    "c=[7,8,9]\n",
    "print(\"sum\" ,np.sum(a))\n",
    "print(\"min\" ,np.min(a))\n",
    "print(\"max\" ,np.max(a))\n",
    "print(\"mean\" ,np.mean(a))\n",
    "print(\"correlation coefficient\" ,np.median(a))\n",
    "print(\"standard deviation\" ,np.std(a))"
   ]
  },
  {
   "cell_type": "markdown",
   "id": "96f33cef",
   "metadata": {},
   "source": [
    "# Numpy broadcasting\n"
   ]
  },
  {
   "cell_type": "code",
   "execution_count": 1,
   "id": "5a81f405",
   "metadata": {},
   "outputs": [
    {
     "name": "stdout",
     "output_type": "stream",
     "text": [
      "[[ 1  2  3  4  5  6]\n",
      " [ 7  8  9 10 11 12]]\n",
      "[1 2 3 4 5 6]\n",
      "[[ 2  4  6  8 10 12]\n",
      " [ 8 10 12 14 16 18]]\n"
     ]
    }
   ],
   "source": [
    "import numpy as np\n",
    "a=np.array([[1,2,3,4,5,6],[7,8,9,10,11,12]])\n",
    "b=np.array([1,2,3,4,5,6])\n",
    "print(a)\n",
    "print(b)\n",
    "print(a+b) ## number of column or number of row must be equal otherwise it create the row of same element"
   ]
  },
  {
   "cell_type": "raw",
   "id": "f752357d",
   "metadata": {},
   "source": []
  },
  {
   "cell_type": "markdown",
   "id": "bffa3927",
   "metadata": {},
   "source": [
    "# array manipulation"
   ]
  },
  {
   "cell_type": "code",
   "execution_count": 20,
   "id": "0668fe73",
   "metadata": {},
   "outputs": [
    {
     "data": {
      "text/plain": [
       "array([[ 1,  2,  3,  4,  5,  6],\n",
       "       [ 7,  8,  9, 10, 11, 12],\n",
       "       [ 1,  2,  3,  4,  5,  6],\n",
       "       [ 7,  8,  9, 10, 11, 12]])"
      ]
     },
     "execution_count": 20,
     "metadata": {},
     "output_type": "execute_result"
    }
   ],
   "source": [
    "import numpy as np\n",
    "a=np.array([[1,2,3,4,5,6],[7,8,9,10,11,12]])\n",
    "b=np.array([[1,2,3,4,5,6],[7,8,9,10,11,12]])\n",
    "## concartination of array\n",
    "np.concatenate((a,b))"
   ]
  },
  {
   "cell_type": "code",
   "execution_count": 21,
   "id": "e3ea2df4",
   "metadata": {},
   "outputs": [
    {
     "data": {
      "text/plain": [
       "array([[ 1,  2,  3,  4,  5,  6],\n",
       "       [ 7,  8,  9, 10, 11, 12],\n",
       "       [ 1,  2,  3,  4,  5,  6],\n",
       "       [ 7,  8,  9, 10, 11, 12]])"
      ]
     },
     "execution_count": 21,
     "metadata": {},
     "output_type": "execute_result"
    }
   ],
   "source": [
    "#stack array row wise :vertically\n",
    "np.vstack((a,b))"
   ]
  },
  {
   "cell_type": "code",
   "execution_count": 22,
   "id": "1807346a",
   "metadata": {},
   "outputs": [
    {
     "data": {
      "text/plain": [
       "array([[ 1,  2,  3,  4,  5,  6,  1,  2,  3,  4,  5,  6],\n",
       "       [ 7,  8,  9, 10, 11, 12,  7,  8,  9, 10, 11, 12]])"
      ]
     },
     "execution_count": 22,
     "metadata": {},
     "output_type": "execute_result"
    }
   ],
   "source": [
    "#stack array row wise :horizontally\n",
    "np.hstack((a,b))"
   ]
  },
  {
   "cell_type": "code",
   "execution_count": 23,
   "id": "a5fa3de4",
   "metadata": {},
   "outputs": [
    {
     "data": {
      "text/plain": [
       "array([[ 1,  2,  3,  4,  5,  6,  1,  2,  3,  4,  5,  6],\n",
       "       [ 7,  8,  9, 10, 11, 12,  7,  8,  9, 10, 11, 12]])"
      ]
     },
     "execution_count": 23,
     "metadata": {},
     "output_type": "execute_result"
    }
   ],
   "source": [
    "#stack array column wise:\n",
    "np.column_stack((a,b))"
   ]
  },
  {
   "cell_type": "markdown",
   "id": "4722f129",
   "metadata": {},
   "source": [
    "# splitting of array"
   ]
  },
  {
   "cell_type": "code",
   "execution_count": 31,
   "id": "bac4f04c",
   "metadata": {},
   "outputs": [
    {
     "name": "stdout",
     "output_type": "stream",
     "text": [
      "[[ 0  1  2  3]\n",
      " [ 4  5  6  7]\n",
      " [ 8  9 10 11]\n",
      " [12 13 14 15]] \n",
      "\n",
      "\n",
      "\n",
      "[array([[ 0,  1],\n",
      "       [ 4,  5],\n",
      "       [ 8,  9],\n",
      "       [12, 13]]), array([[ 2,  3],\n",
      "       [ 6,  7],\n",
      "       [10, 11],\n",
      "       [14, 15]])] \n",
      "\n",
      "\n",
      "\n",
      "[array([[0, 1, 2, 3],\n",
      "       [4, 5, 6, 7]]), array([[ 8,  9, 10, 11],\n",
      "       [12, 13, 14, 15]])] \n",
      "\n",
      "\n",
      "\n",
      "[array([[ 0],\n",
      "       [ 4],\n",
      "       [ 8],\n",
      "       [12]]), array([[ 1],\n",
      "       [ 5],\n",
      "       [ 9],\n",
      "       [13]]), array([[ 2],\n",
      "       [ 6],\n",
      "       [10],\n",
      "       [14]]), array([[ 3],\n",
      "       [ 7],\n",
      "       [11],\n",
      "       [15]])] \n",
      "\n",
      "\n",
      "\n"
     ]
    }
   ],
   "source": [
    "x=np.arange(16).reshape(4,4)\n",
    "print(x,\"\\n\\n\\n\")\n",
    "print(np.hsplit(x,2),\"\\n\\n\\n\")# here it split between 1 and 2 column (column in horizontal so we represent hsplit)\n",
    "print(np.vsplit(x,2),\"\\n\\n\\n\")# here it split between 1 and 2 row(row in vertical so we represent vsplit)\n",
    "print(np.hsplit(x,np.array([1,2,3])),\"\\n\\n\\n\")## this argument represent where we want to splitt here we split at 1,2 and 3 columns"
   ]
  },
  {
   "cell_type": "markdown",
   "id": "6b87891a",
   "metadata": {},
   "source": [
    "# INDEXING AND SLICING"
   ]
  },
  {
   "cell_type": "code",
   "execution_count": 32,
   "id": "bdad7385",
   "metadata": {},
   "outputs": [],
   "source": [
    "## INDEXING REFERS TO POSITION.\n",
    "## SLICING IS THE METHOD OF ASSCESSING PART OF DATA.\n"
   ]
  },
  {
   "cell_type": "code",
   "execution_count": 35,
   "id": "b3226f99",
   "metadata": {},
   "outputs": [
    {
     "data": {
      "text/plain": [
       "array([[1, 2, 3],\n",
       "       [4, 5, 6],\n",
       "       [7, 8, 9]])"
      ]
     },
     "execution_count": 35,
     "metadata": {},
     "output_type": "execute_result"
    }
   ],
   "source": [
    "a=np.array([[1,2,3],[4,5,6],[7,8,9]])\n",
    "a"
   ]
  },
  {
   "cell_type": "code",
   "execution_count": 39,
   "id": "97f20a0d",
   "metadata": {},
   "outputs": [
    {
     "data": {
      "text/plain": [
       "array([[2, 3],\n",
       "       [5, 6]])"
      ]
     },
     "execution_count": 39,
     "metadata": {},
     "output_type": "execute_result"
    }
   ],
   "source": [
    "## slicing the numbers 2356\n",
    "a[0:2,1:]## a[row_st_index:row_end_index,column_st_index:column_end_index]"
   ]
  },
  {
   "cell_type": "code",
   "execution_count": 40,
   "id": "15b8595c",
   "metadata": {},
   "outputs": [
    {
     "data": {
      "text/plain": [
       "array([[1],\n",
       "       [4],\n",
       "       [7]])"
      ]
     },
     "execution_count": 40,
     "metadata": {},
     "output_type": "execute_result"
    }
   ],
   "source": [
    "## slicing the numbers 143\n",
    "a[:,0:1]"
   ]
  },
  {
   "cell_type": "code",
   "execution_count": 41,
   "id": "98e0cf80",
   "metadata": {},
   "outputs": [
    {
     "data": {
      "text/plain": [
       "5"
      ]
     },
     "execution_count": 41,
     "metadata": {},
     "output_type": "execute_result"
    }
   ],
   "source": [
    "## slicing the numbers 5\n",
    "a[1,1]"
   ]
  }
 ],
 "metadata": {
  "kernelspec": {
   "display_name": "Python 3 (ipykernel)",
   "language": "python",
   "name": "python3"
  },
  "language_info": {
   "codemirror_mode": {
    "name": "ipython",
    "version": 3
   },
   "file_extension": ".py",
   "mimetype": "text/x-python",
   "name": "python",
   "nbconvert_exporter": "python",
   "pygments_lexer": "ipython3",
   "version": "3.11.3"
  }
 },
 "nbformat": 4,
 "nbformat_minor": 5
}
